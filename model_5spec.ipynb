{
 "cells": [
  {
   "cell_type": "code",
   "execution_count": 4,
   "id": "2e2c4882-f04f-4970-acf6-5df2405ab8d1",
   "metadata": {},
   "outputs": [
    {
     "name": "stdout",
     "output_type": "stream",
     "text": [
      "Requirement already satisfied: soundfile in /opt/conda/lib/python3.11/site-packages (0.12.1)\n",
      "Requirement already satisfied: cffi>=1.0 in /opt/conda/lib/python3.11/site-packages (from soundfile) (1.16.0)\n",
      "Requirement already satisfied: pycparser in /opt/conda/lib/python3.11/site-packages (from cffi>=1.0->soundfile) (2.21)\n",
      "Note: you may need to restart the kernel to use updated packages.\n",
      "Requirement already satisfied: librosa in /opt/conda/lib/python3.11/site-packages (0.10.1)\n",
      "Requirement already satisfied: audioread>=2.1.9 in /opt/conda/lib/python3.11/site-packages (from librosa) (3.0.1)\n",
      "Requirement already satisfied: numpy!=1.22.0,!=1.22.1,!=1.22.2,>=1.20.3 in /opt/conda/lib/python3.11/site-packages (from librosa) (1.24.4)\n",
      "Requirement already satisfied: scipy>=1.2.0 in /opt/conda/lib/python3.11/site-packages (from librosa) (1.11.3)\n",
      "Requirement already satisfied: scikit-learn>=0.20.0 in /opt/conda/lib/python3.11/site-packages (from librosa) (1.3.1)\n",
      "Requirement already satisfied: joblib>=0.14 in /opt/conda/lib/python3.11/site-packages (from librosa) (1.3.2)\n",
      "Requirement already satisfied: decorator>=4.3.0 in /opt/conda/lib/python3.11/site-packages (from librosa) (5.1.1)\n",
      "Requirement already satisfied: numba>=0.51.0 in /opt/conda/lib/python3.11/site-packages (from librosa) (0.57.1)\n",
      "Requirement already satisfied: soundfile>=0.12.1 in /opt/conda/lib/python3.11/site-packages (from librosa) (0.12.1)\n",
      "Requirement already satisfied: pooch>=1.0 in /opt/conda/lib/python3.11/site-packages (from librosa) (1.8.1)\n",
      "Requirement already satisfied: soxr>=0.3.2 in /opt/conda/lib/python3.11/site-packages (from librosa) (0.3.7)\n",
      "Requirement already satisfied: typing-extensions>=4.1.1 in /opt/conda/lib/python3.11/site-packages (from librosa) (4.8.0)\n",
      "Requirement already satisfied: lazy-loader>=0.1 in /opt/conda/lib/python3.11/site-packages (from librosa) (0.3)\n",
      "Requirement already satisfied: msgpack>=1.0 in /opt/conda/lib/python3.11/site-packages (from librosa) (1.0.6)\n",
      "Requirement already satisfied: llvmlite<0.41,>=0.40.0dev0 in /opt/conda/lib/python3.11/site-packages (from numba>=0.51.0->librosa) (0.40.1)\n",
      "Requirement already satisfied: platformdirs>=2.5.0 in /opt/conda/lib/python3.11/site-packages (from pooch>=1.0->librosa) (3.11.0)\n",
      "Requirement already satisfied: packaging>=20.0 in /opt/conda/lib/python3.11/site-packages (from pooch>=1.0->librosa) (23.2)\n",
      "Requirement already satisfied: requests>=2.19.0 in /opt/conda/lib/python3.11/site-packages (from pooch>=1.0->librosa) (2.31.0)\n",
      "Requirement already satisfied: threadpoolctl>=2.0.0 in /opt/conda/lib/python3.11/site-packages (from scikit-learn>=0.20.0->librosa) (3.2.0)\n",
      "Requirement already satisfied: cffi>=1.0 in /opt/conda/lib/python3.11/site-packages (from soundfile>=0.12.1->librosa) (1.16.0)\n",
      "Requirement already satisfied: pycparser in /opt/conda/lib/python3.11/site-packages (from cffi>=1.0->soundfile>=0.12.1->librosa) (2.21)\n",
      "Requirement already satisfied: charset-normalizer<4,>=2 in /opt/conda/lib/python3.11/site-packages (from requests>=2.19.0->pooch>=1.0->librosa) (3.3.0)\n",
      "Requirement already satisfied: idna<4,>=2.5 in /opt/conda/lib/python3.11/site-packages (from requests>=2.19.0->pooch>=1.0->librosa) (3.4)\n",
      "Requirement already satisfied: urllib3<3,>=1.21.1 in /opt/conda/lib/python3.11/site-packages (from requests>=2.19.0->pooch>=1.0->librosa) (2.0.7)\n",
      "Requirement already satisfied: certifi>=2017.4.17 in /opt/conda/lib/python3.11/site-packages (from requests>=2.19.0->pooch>=1.0->librosa) (2023.7.22)\n",
      "Note: you may need to restart the kernel to use updated packages.\n"
     ]
    }
   ],
   "source": [
    "%pip install soundfile\n",
    "%pip install librosa"
   ]
  },
  {
   "cell_type": "code",
   "execution_count": 7,
   "id": "4c32bdf6-89e4-4136-99a6-42b5e430f5da",
   "metadata": {},
   "outputs": [
    {
     "name": "stdout",
     "output_type": "stream",
     "text": [
      "['polyglottos', 'migratorius', 'bewickii', 'melodia', 'cardinalis']\n"
     ]
    }
   ],
   "source": [
    "def genera_lista_da_csv(file_csv, nome_output):\n",
    "    lista = []\n",
    "    with open(file_csv, newline='', encoding='utf-8') as csvfile:\n",
    "        reader = csv.reader(csvfile)\n",
    "        next(reader) \n",
    "        for riga in reader:\n",
    "            nome_file_audio = riga[17]  \n",
    "            uccello = riga[2] \n",
    "            lista.append(f\"{uccello}/{nome_file_audio}\")\n",
    "\n",
    "    with open(nome_output, 'w') as file_lista:\n",
    "        for elemento in lista:\n",
    "            file_lista.write(elemento + '\\n')\n",
    "\n",
    "def read_list(list_file):\n",
    "    birds = set()\n",
    "    with open(list_file, 'r') as f:\n",
    "        for line in f:\n",
    "            bird = line.split('/')[0]  \n",
    "            birds.add(bird)\n",
    "    return list(birds)\n",
    "\n",
    "def create_birds_array(list_file):\n",
    "    birds = read_list(list_file)\n",
    "    return birds\n",
    "\n",
    "file_csv = 'bird_dataset_2/bird_songs_metadata.csv'  \n",
    "nome_output = 'list2.txt'  \n",
    "genera_lista_da_csv(file_csv, nome_output)\n",
    "CLASSES = create_birds_array('list2.txt')\n",
    "print(CLASSES)"
   ]
  },
  {
   "cell_type": "code",
   "execution_count": 41,
   "id": "91a93eb8-42d7-48e9-aeef-79129f6a651b",
   "metadata": {},
   "outputs": [],
   "source": [
    "import csv\n",
    "from pathlib import Path\n",
    "import soundfile as sf\n",
    "import numpy as np\n",
    "import librosa\n",
    "import random\n",
    "import zipfile\n",
    "from keras.utils import to_categorical\n",
    "import io\n",
    "import copy\n",
    "import os\n",
    "\n",
    "\n",
    "import tensorflow as tf\n",
    "from keras.models import Sequential\n",
    "from keras.layers import Input, Conv1D, AvgPool1D, MaxPool1D, ZeroPadding1D, BatchNormalization, Flatten, Dense, Activation, Dropout\n",
    "from keras.activations import softmax\n",
    "from keras.utils import get_file"
   ]
  },
  {
   "cell_type": "code",
   "execution_count": 157,
   "id": "44765053-10a8-40da-8ece-d47c647b5d7b",
   "metadata": {},
   "outputs": [],
   "source": [
    "def get_bird_name(file_name, mapping_file):\n",
    "    with open(mapping_file, 'r') as f:\n",
    "        for line in f:\n",
    "            parts = line.strip().split('/')\n",
    "            if len(parts) == 2:\n",
    "                file_id = file_name.split('/')[-1].split('.')[0] \n",
    "                audio_id = parts[1].replace('.wav', '') \n",
    "                if file_id == audio_id:\n",
    "                    return parts[0]\n",
    "    return None\n",
    "\n",
    "def check_if_in_testing_list(recording, testing_list):\n",
    "    recording_id = recording.stem.split('/')[-1].split('.')[0]\n",
    "    for item in testing_list:\n",
    "        item_id = Path(item).stem.split('/')[-1]\n",
    "        if recording_id == item_id:\n",
    "            return True\n",
    "    return False\n",
    "\n",
    "def create_testing_list(list_file):\n",
    "    with open(list_file, \"r\") as f:\n",
    "        lines = f.readlines()\n",
    "    testing_lines = random.sample(lines, 250)\n",
    "    with open(\"testing_list2.txt\", \"w\") as f:\n",
    "        f.writelines(testing_lines)\n",
    "\n",
    "\n",
    "def repair_dimensions_y(y_train, y_test):\n",
    "    if y_train.shape[1] < y_test.shape[1]:\n",
    "        diff = y_test.shape[1] - y_train.shape[1]\n",
    "        last_element = y_train[:, -1].reshape(-1, 1)\n",
    "        y_train = np.hstack((y_train, np.tile(last_element, (1, diff))))\n",
    "    elif y_test.shape[1] < y_train.shape[1]:\n",
    "        diff = y_train.shape[1] - y_test.shape[1]\n",
    "        last_element = y_test[:, -1].reshape(-1, 1)\n",
    "        y_test = np.hstack((y_test, np.tile(last_element, (1, diff))))\n",
    "    return y_train, y_test\n"
   ]
  },
  {
   "cell_type": "code",
   "execution_count": 158,
   "id": "bd8e438d-7e3b-4e0a-8095-290c61bcd962",
   "metadata": {},
   "outputs": [],
   "source": [
    "def creates_test_train():\n",
    "    create_testing_list(\"list2.txt\")\n",
    "    x_train = []\n",
    "    y_train = []\n",
    "    x_test = []\n",
    "    y_test = []\n",
    "\n",
    "    dataset_dir = Path(\"bird_dataset_2/wavfiles\")\n",
    "\n",
    "    for recording in dataset_dir.iterdir():\n",
    "        if recording.suffix == \".wav\":  \n",
    "            file_name = recording.stem\n",
    "            bird_name = get_bird_name(file_name, \"list2.txt\")\n",
    "            if bird_name is None or bird_name not in CLASSES:\n",
    "                continue\n",
    "            label = CLASSES.index(bird_name)\n",
    "\n",
    " \n",
    "            path_audio = str(recording).replace('\\\\', '/')\n",
    "            data, sample_rate = sf.read(path_audio)     \n",
    "            data = (data * (2 ** 15)).astype(np.int16)\n",
    "            data = data.astype(np.float32)\n",
    "            data_resized = np.resize(data, (500, 1))\n",
    "\n",
    "            \n",
    "            with open(\"testing_list2.txt\", \"r\") as f:\n",
    "                testing_list = f.read().splitlines()\n",
    "\n",
    "            if check_if_in_testing_list(recording, testing_list):\n",
    "                x_test.append(data_resized)\n",
    "                y_test.append(label)\n",
    "            else:\n",
    "                x_train.append(data_resized)\n",
    "                y_train.append(label)\n",
    "\n",
    "    y_train = to_categorical(np.array(y_train))\n",
    "    y_test = to_categorical(np.array(y_test))\n",
    "\n",
    "    if y_train.shape[1] != y_test.shape[1]:\n",
    "        y_train, y_test = repair_dimensions_y(y_train, y_test)\n",
    "\n",
    "    x_train = np.array(x_train)\n",
    "    x_test = np.array(x_test)\n",
    "\n",
    "    print(\"Size of x_train:\", x_train.shape)\n",
    "    print(\"Size of y_train:\", y_train.shape)\n",
    "    print(\"Size of x_test:\", x_test.shape)\n",
    "    print(\"Size of y_test:\", y_test.shape)\n",
    "\n",
    "    return x_train, x_test, y_train, y_test"
   ]
  },
  {
   "cell_type": "code",
   "execution_count": 159,
   "id": "1c201a9c-021b-4e5a-b3af-25cfce8fa06e",
   "metadata": {},
   "outputs": [
    {
     "name": "stdout",
     "output_type": "stream",
     "text": [
      "Size of x_train: (1774, 500, 1)\n",
      "Size of y_train: (1774, 5)\n",
      "Size of x_test: (89, 500, 1)\n",
      "Size of y_test: (89, 5)\n"
     ]
    }
   ],
   "source": [
    "x_train, x_test, y_train, y_test = creates_test_train()"
   ]
  },
  {
   "cell_type": "code",
   "execution_count": 160,
   "id": "0b42fe02-115c-4ff3-8c35-7b4561047681",
   "metadata": {},
   "outputs": [],
   "source": [
    "FIXED_POINT = 9\n",
    "x_train /= 2**FIXED_POINT\n",
    "x_test  /= 2**FIXED_POINT\n",
    "\n",
    "np.savetxt('x_test.csv', x_test.reshape((x_test.shape[0], -1)), delimiter=',', fmt='%s')\n",
    "np.savetxt('y_test.csv', y_test, delimiter=',', fmt='%s')"
   ]
  },
  {
   "cell_type": "code",
   "execution_count": 161,
   "id": "e5b303b2-80a5-4ce8-978b-2ca930094257",
   "metadata": {},
   "outputs": [],
   "source": [
    "from sklearn.preprocessing import StandardScaler\n",
    "scaler = StandardScaler()\n",
    "x_train_normalized = scaler.fit_transform(x_train.reshape(x_train.shape[0], -1))\n",
    "x_test_normalized = scaler.transform(x_test.reshape(x_test.shape[0], -1))\n",
    "\n",
    "\n",
    "x_train = x_train_normalized.reshape(x_train.shape)\n",
    "x_test = x_test_normalized.reshape(x_test.shape)\n"
   ]
  },
  {
   "cell_type": "markdown",
   "id": "21bbb499-1d86-4c8f-8324-d2e8c0be9019",
   "metadata": {},
   "source": [
    "Now there is the choice of the model, run the one desired"
   ]
  },
  {
   "cell_type": "markdown",
   "id": "0bc07b5a-aa53-4abd-821d-045f1a0bd08a",
   "metadata": {},
   "source": [
    "This is the model based on the paper "
   ]
  },
  {
   "cell_type": "code",
   "execution_count": 162,
   "id": "8bfc6ba2-4c00-434e-9bd2-39fe8bfa2767",
   "metadata": {},
   "outputs": [
    {
     "name": "stdout",
     "output_type": "stream",
     "text": [
      "Model: \"sequential_14\"\n",
      "_________________________________________________________________\n",
      " Layer (type)                Output Shape              Param #   \n",
      "=================================================================\n",
      " conv1d_108 (Conv1D)         (None, 421, 16)           1296      \n",
      "                                                                 \n",
      " activation_74 (Activation)  (None, 421, 16)           0         \n",
      "                                                                 \n",
      " max_pooling1d_62 (MaxPooli  (None, 209, 16)           0         \n",
      " ng1D)                                                           \n",
      "                                                                 \n",
      " conv1d_109 (Conv1D)         (None, 207, 32)           1568      \n",
      "                                                                 \n",
      " max_pooling1d_63 (MaxPooli  (None, 102, 32)           0         \n",
      " ng1D)                                                           \n",
      "                                                                 \n",
      " conv1d_110 (Conv1D)         (None, 100, 64)           6208      \n",
      "                                                                 \n",
      " max_pooling1d_64 (MaxPooli  (None, 50, 64)            0         \n",
      " ng1D)                                                           \n",
      "                                                                 \n",
      " conv1d_111 (Conv1D)         (None, 48, 64)            12352     \n",
      "                                                                 \n",
      " max_pooling1d_65 (MaxPooli  (None, 47, 64)            0         \n",
      " ng1D)                                                           \n",
      "                                                                 \n",
      " conv1d_112 (Conv1D)         (None, 45, 128)           24704     \n",
      "                                                                 \n",
      " max_pooling1d_66 (MaxPooli  (None, 44, 128)           0         \n",
      " ng1D)                                                           \n",
      "                                                                 \n",
      " average_pooling1d_14 (Aver  (None, 1, 128)            0         \n",
      " agePooling1D)                                                   \n",
      "                                                                 \n",
      " flatten_14 (Flatten)        (None, 128)               0         \n",
      "                                                                 \n",
      " dropout_14 (Dropout)        (None, 128)               0         \n",
      "                                                                 \n",
      " dense_14 (Dense)            (None, 5)                 645       \n",
      "                                                                 \n",
      " activation_75 (Activation)  (None, 5)                 0         \n",
      "                                                                 \n",
      "=================================================================\n",
      "Total params: 46773 (182.71 KB)\n",
      "Trainable params: 46773 (182.71 KB)\n",
      "Non-trainable params: 0 (0.00 Byte)\n",
      "_________________________________________________________________\n"
     ]
    }
   ],
   "source": [
    "model = Sequential()\n",
    "model.add(Input(shape=( 500, 1)))\n",
    "\n",
    "model.add(Conv1D(filters=16, kernel_size=80))\n",
    "model.add(Activation('relu'))\n",
    "model.add(MaxPool1D(pool_size=4, strides=2))\n",
    "\n",
    "model.add(Conv1D(filters=32, kernel_size=3, activation='relu'))\n",
    "model.add(MaxPool1D(pool_size=4, strides=2))\n",
    "\n",
    "model.add(Conv1D(filters=64, kernel_size=3, activation='relu'))\n",
    "model.add(MaxPool1D(pool_size=2, strides=2))\n",
    "\n",
    "model.add(Conv1D(filters=64, kernel_size=3, activation='relu'))\n",
    "model.add(MaxPool1D(pool_size=2, strides=1))\n",
    "\n",
    "model.add(Conv1D(filters=128, kernel_size=3, activation='relu'))\n",
    "model.add(MaxPool1D(pool_size=2, strides=1))\n",
    "\n",
    "model.add(AvgPool1D(pool_size=44))\n",
    "\n",
    "model.add(Flatten())\n",
    "#model.add(Dense(units=128, activation='relu'))\n",
    "model.add(Dropout(0.5))\n",
    "model.add(Dense(units=len(CLASSES)))\n",
    "model.add(Activation('softmax'))\n",
    "\n",
    "opt = tf.keras.optimizers.Adam(learning_rate=0.001) \n",
    "model.compile(optimizer=opt, loss='categorical_crossentropy', metrics=['accuracy'])\n",
    "\n",
    "model.summary()"
   ]
  },
  {
   "cell_type": "markdown",
   "id": "daae88e5-358c-4ac6-bdc0-23f2afb9f316",
   "metadata": {},
   "source": [
    "This is the ResNet model"
   ]
  },
  {
   "cell_type": "code",
   "execution_count": null,
   "id": "8b77a0f3-c84e-49cb-be0f-a5f1203d3372",
   "metadata": {},
   "outputs": [],
   "source": [
    "from tensorflow.keras.layers import Input, Conv1D, BatchNormalization, Activation, MaxPooling1D, AveragePooling1D, Flatten, Dense, Dropout\n",
    "from tensorflow.keras.models import Sequential\n",
    "\n",
    "input_shape = (500, 1)\n",
    "num_classes = 5\n",
    "\n",
    "model = Sequential()\n",
    "\n",
    "\n",
    "model.add(Conv1D(filters=16, kernel_size=7, strides=2, input_shape=input_shape))\n",
    "model.add(BatchNormalization())\n",
    "model.add(Activation('relu'))\n",
    "model.add(MaxPooling1D(pool_size=2, strides=2))\n",
    "\n",
    "for _ in range(10):\n",
    "    model.add(Conv1D(filters=16, kernel_size=3))\n",
    "    model.add(BatchNormalization())\n",
    "    model.add(Activation('relu'))\n",
    "\n",
    "    \n",
    "    model.add(Conv1D(filters=16, kernel_size=3))\n",
    "    model.add(BatchNormalization())\n",
    "    model.add(Activation('relu'))\n",
    "\n",
    "\n",
    "\n",
    "model.add(Conv1D(filters=32, kernel_size=3, strides=2))\n",
    "model.add(BatchNormalization())\n",
    "model.add(Activation('relu'))\n",
    "\n",
    "\n",
    "for _ in range(1):\n",
    "    model.add(Conv1D(filters=32, kernel_size=3))\n",
    "    model.add(BatchNormalization())\n",
    "    model.add(Activation('relu'))\n",
    "    \n",
    "    model.add(Conv1D(filters=32, kernel_size=3))\n",
    "    model.add(BatchNormalization())\n",
    "    model.add(Activation('relu'))\n",
    "\n",
    "\n",
    "model.add(AvgPool1D(pool_size=2))\n",
    "\n",
    "\n",
    "model.add(Flatten())\n",
    "model.add(Dropout(0.5))\n",
    "model.add(Dense(units=num_classes))\n",
    "model.add(Activation('softmax'))\n",
    "\n",
    "\n",
    "opt = tf.keras.optimizers.Adam(learning_rate=0.001)\n",
    "model.compile(optimizer=opt, loss='categorical_crossentropy', metrics=['accuracy'])\n",
    "\n",
    "model.summary()"
   ]
  },
  {
   "cell_type": "code",
   "execution_count": 163,
   "id": "821829df-798a-496e-b516-dd04dee8db3e",
   "metadata": {},
   "outputs": [
    {
     "name": "stdout",
     "output_type": "stream",
     "text": [
      "Epoch 1/10\n",
      "6/6 [==============================] - 2s 146ms/step - loss: 1.5918 - accuracy: 0.2830 - val_loss: 1.5579 - val_accuracy: 0.2921\n",
      "Epoch 2/10\n",
      "6/6 [==============================] - 1s 113ms/step - loss: 1.5414 - accuracy: 0.3298 - val_loss: 1.4875 - val_accuracy: 0.3596\n",
      "Epoch 3/10\n",
      "6/6 [==============================] - 1s 115ms/step - loss: 1.4770 - accuracy: 0.3743 - val_loss: 1.4028 - val_accuracy: 0.3708\n",
      "Epoch 4/10\n",
      "6/6 [==============================] - 1s 120ms/step - loss: 1.4283 - accuracy: 0.3873 - val_loss: 1.3847 - val_accuracy: 0.3933\n",
      "Epoch 5/10\n",
      "6/6 [==============================] - 1s 130ms/step - loss: 1.4070 - accuracy: 0.3918 - val_loss: 1.3667 - val_accuracy: 0.3933\n",
      "Epoch 6/10\n",
      "6/6 [==============================] - 1s 123ms/step - loss: 1.3853 - accuracy: 0.3980 - val_loss: 1.3455 - val_accuracy: 0.3820\n",
      "Epoch 7/10\n",
      "6/6 [==============================] - 1s 119ms/step - loss: 1.3653 - accuracy: 0.4087 - val_loss: 1.3366 - val_accuracy: 0.4270\n",
      "Epoch 8/10\n",
      "6/6 [==============================] - 1s 121ms/step - loss: 1.3484 - accuracy: 0.4059 - val_loss: 1.3369 - val_accuracy: 0.4045\n",
      "Epoch 9/10\n",
      "6/6 [==============================] - 1s 116ms/step - loss: 1.3440 - accuracy: 0.4211 - val_loss: 1.3103 - val_accuracy: 0.3933\n",
      "Epoch 10/10\n",
      "6/6 [==============================] - 1s 112ms/step - loss: 1.3241 - accuracy: 0.4177 - val_loss: 1.3265 - val_accuracy: 0.4157\n"
     ]
    },
    {
     "data": {
      "text/plain": [
       "<keras.src.callbacks.History at 0x7f3ea559d590>"
      ]
     },
     "execution_count": 163,
     "metadata": {},
     "output_type": "execute_result"
    }
   ],
   "source": [
    "model.fit(x_train, y_train, epochs=10, batch_size=300, validation_data=(x_test, y_test))"
   ]
  },
  {
   "cell_type": "code",
   "execution_count": null,
   "id": "ebe2c9b8-b5ef-4a24-b7b1-c31bbcd2fb4f",
   "metadata": {},
   "outputs": [],
   "source": []
  },
  {
   "cell_type": "code",
   "execution_count": 164,
   "id": "1a0af80c-8cf5-4d4b-a69f-66342d63aef2",
   "metadata": {},
   "outputs": [
    {
     "name": "stdout",
     "output_type": "stream",
     "text": [
      "3/3 - 0s - loss: 1.3265 - accuracy: 0.4157 - 32ms/epoch - 11ms/step\n",
      "3/3 [==============================] - 0s 6ms/step\n",
      "tf.Tensor(\n",
      "[[10  0  0 13  1]\n",
      " [ 9  2  0  7  0]\n",
      " [ 0  0  0  8  1]\n",
      " [ 1  0  0 22  3]\n",
      " [ 4  0  0  5  3]], shape=(5, 5), dtype=int32)\n"
     ]
    }
   ],
   "source": [
    "model.evaluate(x_test, y_test, verbose=2)\n",
    "pred_test = model.predict(x_test)\n",
    "print(tf.math.confusion_matrix(y_test.argmax(axis=1), pred_test.argmax(axis=1)))"
   ]
  },
  {
   "cell_type": "code",
   "execution_count": 165,
   "id": "54db56b8-f7eb-4256-9880-dcc278316017",
   "metadata": {},
   "outputs": [
    {
     "name": "stderr",
     "output_type": "stream",
     "text": [
      "/opt/conda/lib/python3.11/site-packages/keras/src/engine/training.py:3079: UserWarning: You are saving your model as an HDF5 file via `model.save()`. This file format is considered legacy. We recommend using instead the native Keras format, e.g. `model.save('my_model.keras')`.\n",
      "  saving_api.save_model(\n"
     ]
    }
   ],
   "source": [
    "model.save('model_5spec.h5')"
   ]
  },
  {
   "cell_type": "code",
   "execution_count": 166,
   "id": "79d31746-a8ed-4acd-a0ff-f35024dba59d",
   "metadata": {},
   "outputs": [],
   "source": [
    "if isinstance(model.layers[-1], Activation) and model.layers[-1].activation == softmax:\n",
    "    model = tf.keras.Model(model.input, model.layers[-2].output, name=model.name)\n",
    "else:\n",
    "    print('Error: last layer is not SoftMax Activation')"
   ]
  },
  {
   "cell_type": "code",
   "execution_count": 167,
   "id": "25df4df1-8a11-4f25-8f77-9820d9cb3af0",
   "metadata": {},
   "outputs": [
    {
     "name": "stdout",
     "output_type": "stream",
     "text": [
      "Requirement already satisfied: qualia_codegen_core in /opt/conda/lib/python3.11/site-packages (2.2.0)\n",
      "Requirement already satisfied: numpy in /opt/conda/lib/python3.11/site-packages (from qualia_codegen_core) (1.24.4)\n",
      "Requirement already satisfied: jinja2 in /opt/conda/lib/python3.11/site-packages (from qualia_codegen_core) (3.1.2)\n",
      "Requirement already satisfied: typing_extensions in /opt/conda/lib/python3.11/site-packages (from qualia_codegen_core) (4.8.0)\n",
      "Requirement already satisfied: MarkupSafe>=2.0 in /opt/conda/lib/python3.11/site-packages (from jinja2->qualia_codegen_core) (2.1.3)\n",
      "Note: you may need to restart the kernel to use updated packages.\n"
     ]
    }
   ],
   "source": [
    "%pip install qualia_codegen_core\n",
    "import qualia_codegen_core\n",
    "from qualia_codegen_core.graph.KerasModelGraph import KerasModelGraph\n",
    "from qualia_codegen_core.graph.Quantization import Quantization\n",
    "from qualia_codegen_core.graph.RoundMode import RoundMode\n",
    "\n",
    "from importlib.resources import files\n",
    "main_path = str((files('qualia_codegen_core.examples')/'Linux'/'main.cpp').resolve())"
   ]
  },
  {
   "cell_type": "code",
   "execution_count": 168,
   "id": "2579fc6d-7202-4488-9e5e-3efd791b9721",
   "metadata": {},
   "outputs": [
    {
     "name": "stdout",
     "output_type": "stream",
     "text": [
      "—————————————————————————————————————————————————————————————————————————————————————————————————————————————————————————————————————————————————————————————————————————————————————————————————————————————————————————————————————————————————————————————\n",
      "Inputs                                           | Layer                                            | Outputs                                          | Input shape                                      | Output shape                                    \n",
      "—————————————————————————————————————————————————————————————————————————————————————————————————————————————————————————————————————————————————————————————————————————————————————————————————————————————————————————————————————————————————————————————\n",
      "                                                 | input_13                                         | conv1d_108                                       | (1, 500, 1)                                      | ((1, 500, 1),)                                  \n",
      "-------------------------------------------------------------------------------------------------------------------------------------------------------------------------------------------------------------------------------------------------------------\n",
      "input_13                                         | conv1d_108                                       | activation_74                                    | (1, 500, 1)                                      | ((1, 421, 16),)                                 \n",
      "-------------------------------------------------------------------------------------------------------------------------------------------------------------------------------------------------------------------------------------------------------------\n",
      "conv1d_108                                       | activation_74                                    | max_pooling1d_62                                 | (1, 421, 16)                                     | ((1, 421, 16),)                                 \n",
      "-------------------------------------------------------------------------------------------------------------------------------------------------------------------------------------------------------------------------------------------------------------\n",
      "activation_74                                    | max_pooling1d_62                                 | conv1d_109                                       | (1, 421, 16)                                     | ((1, 209, 16),)                                 \n",
      "-------------------------------------------------------------------------------------------------------------------------------------------------------------------------------------------------------------------------------------------------------------\n",
      "max_pooling1d_62                                 | conv1d_109                                       | max_pooling1d_63                                 | (1, 209, 16)                                     | ((1, 207, 32),)                                 \n",
      "-------------------------------------------------------------------------------------------------------------------------------------------------------------------------------------------------------------------------------------------------------------\n",
      "conv1d_109                                       | max_pooling1d_63                                 | conv1d_110                                       | (1, 207, 32)                                     | ((1, 102, 32),)                                 \n",
      "-------------------------------------------------------------------------------------------------------------------------------------------------------------------------------------------------------------------------------------------------------------\n",
      "max_pooling1d_63                                 | conv1d_110                                       | max_pooling1d_64                                 | (1, 102, 32)                                     | ((1, 100, 64),)                                 \n",
      "-------------------------------------------------------------------------------------------------------------------------------------------------------------------------------------------------------------------------------------------------------------\n",
      "conv1d_110                                       | max_pooling1d_64                                 | conv1d_111                                       | (1, 100, 64)                                     | ((1, 50, 64),)                                  \n",
      "-------------------------------------------------------------------------------------------------------------------------------------------------------------------------------------------------------------------------------------------------------------\n",
      "max_pooling1d_64                                 | conv1d_111                                       | max_pooling1d_65                                 | (1, 50, 64)                                      | ((1, 48, 64),)                                  \n",
      "-------------------------------------------------------------------------------------------------------------------------------------------------------------------------------------------------------------------------------------------------------------\n",
      "conv1d_111                                       | max_pooling1d_65                                 | conv1d_112                                       | (1, 48, 64)                                      | ((1, 47, 64),)                                  \n",
      "-------------------------------------------------------------------------------------------------------------------------------------------------------------------------------------------------------------------------------------------------------------\n",
      "max_pooling1d_65                                 | conv1d_112                                       | max_pooling1d_66                                 | (1, 47, 64)                                      | ((1, 45, 128),)                                 \n",
      "-------------------------------------------------------------------------------------------------------------------------------------------------------------------------------------------------------------------------------------------------------------\n",
      "conv1d_112                                       | max_pooling1d_66                                 | average_pooling1d_14                             | (1, 45, 128)                                     | ((1, 44, 128),)                                 \n",
      "-------------------------------------------------------------------------------------------------------------------------------------------------------------------------------------------------------------------------------------------------------------\n",
      "max_pooling1d_66                                 | average_pooling1d_14                             | flatten_14                                       | (1, 44, 128)                                     | ((1, 1, 128),)                                  \n",
      "-------------------------------------------------------------------------------------------------------------------------------------------------------------------------------------------------------------------------------------------------------------\n",
      "average_pooling1d_14                             | flatten_14                                       | dropout_14                                       | (1, 1, 128)                                      | ((1, 128),)                                     \n",
      "-------------------------------------------------------------------------------------------------------------------------------------------------------------------------------------------------------------------------------------------------------------\n",
      "flatten_14                                       | dropout_14                                       | dense_14                                         | (1, 128)                                         | ((1, 128),)                                     \n",
      "-------------------------------------------------------------------------------------------------------------------------------------------------------------------------------------------------------------------------------------------------------------\n",
      "dropout_14                                       | dense_14                                         |                                                  | (1, 128)                                         | ((1, 5),)                                       \n",
      "-------------------------------------------------------------------------------------------------------------------------------------------------------------------------------------------------------------------------------------------------------------\n",
      "\n"
     ]
    }
   ],
   "source": [
    "modelgraph = KerasModelGraph(model).convert()\n",
    "print(modelgraph)"
   ]
  },
  {
   "cell_type": "code",
   "execution_count": 169,
   "id": "26d83aba-eefa-4a1e-97cc-1a4cfa02d02a",
   "metadata": {},
   "outputs": [
    {
     "name": "stderr",
     "output_type": "stream",
     "text": [
      "Graphviz not available\n"
     ]
    }
   ],
   "source": [
    "float_modelgraph = copy.deepcopy(modelgraph)\n",
    "\n",
    "# layer quantization annotations for float32\n",
    "for node in float_modelgraph.nodes:\n",
    "    # No scale factor if not fixed-point quantization on integers\n",
    "    node.q = Quantization(\n",
    "            number_type=float,\n",
    "            width=32,\n",
    "            long_width=32,\n",
    "            weights_scale_factor=0,\n",
    "            output_scale_factor=0,\n",
    "            weights_round_mode=RoundMode.NONE,\n",
    "            output_round_mode=RoundMode.NONE,\n",
    "            )\n",
    "\n",
    "float_res = qualia_codegen_core.Converter(output_path=Path('output_floating')).convert_model(float_modelgraph)\n",
    "\n",
    "with open('model_floating.h', 'w') as f:\n",
    "    f.write(float_res)"
   ]
  },
  {
   "cell_type": "code",
   "execution_count": 170,
   "id": "4d16d211-3be0-4748-b1f5-168129a2d7dc",
   "metadata": {},
   "outputs": [
    {
     "name": "stdout",
     "output_type": "stream",
     "text": [
      "In file included from \u001b[01m\u001b[Koutput_floating/model.c:15\u001b[m\u001b[K:\n",
      "\u001b[01m\u001b[Koutput_floating/include/number.h:\u001b[m\u001b[K In function ‘\u001b[01m\u001b[Kfloat scale_number_t_float(float, int, round_mode_t)\u001b[m\u001b[K’:\n",
      "\u001b[01m\u001b[Koutput_floating/include/number.h:73:21:\u001b[m\u001b[K \u001b[01;35m\u001b[Kwarning: \u001b[m\u001b[Kunused parameter ‘\u001b[01m\u001b[Kscale_factor\u001b[m\u001b[K’ [\u001b[01;35m\u001b[K\u001b]8;;https://gcc.gnu.org/onlinedocs/gcc/Warning-Options.html#index-Wunused-parameter\u0007-Wunused-parameter\u001b]8;;\u0007\u001b[m\u001b[K]\n",
      "   73 |   float number, \u001b[01;35m\u001b[Kint scale_factor\u001b[m\u001b[K, round_mode_t round_mode) {\n",
      "      |                 \u001b[01;35m\u001b[K~~~~^~~~~~~~~~~~\u001b[m\u001b[K\n",
      "\u001b[01m\u001b[Koutput_floating/include/number.h:73:48:\u001b[m\u001b[K \u001b[01;35m\u001b[Kwarning: \u001b[m\u001b[Kunused parameter ‘\u001b[01m\u001b[Kround_mode\u001b[m\u001b[K’ [\u001b[01;35m\u001b[K\u001b]8;;https://gcc.gnu.org/onlinedocs/gcc/Warning-Options.html#index-Wunused-parameter\u0007-Wunused-parameter\u001b]8;;\u0007\u001b[m\u001b[K]\n",
      "   73 |   float number, int scale_factor, \u001b[01;35m\u001b[Kround_mode_t round_mode\u001b[m\u001b[K) {\n",
      "      |                                   \u001b[01;35m\u001b[K~~~~~~~~~~~~~^~~~~~~~~~\u001b[m\u001b[K\n",
      "\u001b[01m\u001b[Koutput_floating/include/number.h:\u001b[m\u001b[K In function ‘\u001b[01m\u001b[Kfloat scale_and_clamp_to_number_t_float(float, int, round_mode_t)\u001b[m\u001b[K’:\n",
      "\u001b[01m\u001b[Koutput_floating/include/number.h:81:21:\u001b[m\u001b[K \u001b[01;35m\u001b[Kwarning: \u001b[m\u001b[Kunused parameter ‘\u001b[01m\u001b[Kscale_factor\u001b[m\u001b[K’ [\u001b[01;35m\u001b[K\u001b]8;;https://gcc.gnu.org/onlinedocs/gcc/Warning-Options.html#index-Wunused-parameter\u0007-Wunused-parameter\u001b]8;;\u0007\u001b[m\u001b[K]\n",
      "   81 |   float number, \u001b[01;35m\u001b[Kint scale_factor\u001b[m\u001b[K, round_mode_t round_mode) {\n",
      "      |                 \u001b[01;35m\u001b[K~~~~^~~~~~~~~~~~\u001b[m\u001b[K\n",
      "\u001b[01m\u001b[Koutput_floating/include/number.h:81:48:\u001b[m\u001b[K \u001b[01;35m\u001b[Kwarning: \u001b[m\u001b[Kunused parameter ‘\u001b[01m\u001b[Kround_mode\u001b[m\u001b[K’ [\u001b[01;35m\u001b[K\u001b]8;;https://gcc.gnu.org/onlinedocs/gcc/Warning-Options.html#index-Wunused-parameter\u0007-Wunused-parameter\u001b]8;;\u0007\u001b[m\u001b[K]\n",
      "   81 |   float number, int scale_factor, \u001b[01;35m\u001b[Kround_mode_t round_mode\u001b[m\u001b[K) {\n",
      "      |                                   \u001b[01;35m\u001b[K~~~~~~~~~~~~~^~~~~~~~~~\u001b[m\u001b[K\n",
      "In file included from \u001b[01m\u001b[Koutput_floating/include/model.h:19\u001b[m\u001b[K,\n",
      "                 from \u001b[01m\u001b[K/opt/conda/lib/python3.11/site-packages/qualia_codegen_core/examples/Linux/main.cpp:12\u001b[m\u001b[K:\n",
      "\u001b[01m\u001b[Koutput_floating/include/number.h:\u001b[m\u001b[K In function ‘\u001b[01m\u001b[Kfloat scale_number_t_float(float, int, round_mode_t)\u001b[m\u001b[K’:\n",
      "\u001b[01m\u001b[Koutput_floating/include/number.h:73:21:\u001b[m\u001b[K \u001b[01;35m\u001b[Kwarning: \u001b[m\u001b[Kunused parameter ‘\u001b[01m\u001b[Kscale_factor\u001b[m\u001b[K’ [\u001b[01;35m\u001b[K\u001b]8;;https://gcc.gnu.org/onlinedocs/gcc/Warning-Options.html#index-Wunused-parameter\u0007-Wunused-parameter\u001b]8;;\u0007\u001b[m\u001b[K]\n",
      "   73 |   float number, \u001b[01;35m\u001b[Kint scale_factor\u001b[m\u001b[K, round_mode_t round_mode) {\n",
      "      |                 \u001b[01;35m\u001b[K~~~~^~~~~~~~~~~~\u001b[m\u001b[K\n",
      "\u001b[01m\u001b[Koutput_floating/include/number.h:73:48:\u001b[m\u001b[K \u001b[01;35m\u001b[Kwarning: \u001b[m\u001b[Kunused parameter ‘\u001b[01m\u001b[Kround_mode\u001b[m\u001b[K’ [\u001b[01;35m\u001b[K\u001b]8;;https://gcc.gnu.org/onlinedocs/gcc/Warning-Options.html#index-Wunused-parameter\u0007-Wunused-parameter\u001b]8;;\u0007\u001b[m\u001b[K]\n",
      "   73 |   float number, int scale_factor, \u001b[01;35m\u001b[Kround_mode_t round_mode\u001b[m\u001b[K) {\n",
      "      |                                   \u001b[01;35m\u001b[K~~~~~~~~~~~~~^~~~~~~~~~\u001b[m\u001b[K\n",
      "\u001b[01m\u001b[Koutput_floating/include/number.h:\u001b[m\u001b[K In function ‘\u001b[01m\u001b[Kfloat scale_and_clamp_to_number_t_float(float, int, round_mode_t)\u001b[m\u001b[K’:\n",
      "\u001b[01m\u001b[Koutput_floating/include/number.h:81:21:\u001b[m\u001b[K \u001b[01;35m\u001b[Kwarning: \u001b[m\u001b[Kunused parameter ‘\u001b[01m\u001b[Kscale_factor\u001b[m\u001b[K’ [\u001b[01;35m\u001b[K\u001b]8;;https://gcc.gnu.org/onlinedocs/gcc/Warning-Options.html#index-Wunused-parameter\u0007-Wunused-parameter\u001b]8;;\u0007\u001b[m\u001b[K]\n",
      "   81 |   float number, \u001b[01;35m\u001b[Kint scale_factor\u001b[m\u001b[K, round_mode_t round_mode) {\n",
      "      |                 \u001b[01;35m\u001b[K~~~~^~~~~~~~~~~~\u001b[m\u001b[K\n",
      "\u001b[01m\u001b[Koutput_floating/include/number.h:81:48:\u001b[m\u001b[K \u001b[01;35m\u001b[Kwarning: \u001b[m\u001b[Kunused parameter ‘\u001b[01m\u001b[Kround_mode\u001b[m\u001b[K’ [\u001b[01;35m\u001b[K\u001b]8;;https://gcc.gnu.org/onlinedocs/gcc/Warning-Options.html#index-Wunused-parameter\u0007-Wunused-parameter\u001b]8;;\u0007\u001b[m\u001b[K]\n",
      "   81 |   float number, int scale_factor, \u001b[01;35m\u001b[Kround_mode_t round_mode\u001b[m\u001b[K) {\n",
      "      |                                   \u001b[01;35m\u001b[K~~~~~~~~~~~~~^~~~~~~~~~\u001b[m\u001b[K\n",
      "Testing accuracy: 0.449438\n"
     ]
    }
   ],
   "source": [
    "!g++ -std=c++17 -Wall -Wextra -pedantic -Ofast -o floating -include output_floating/include/defines.h -Ioutput_floating/include output_floating/model.c {main_path}\n",
    "!./floating x_test.csv y_test.csv"
   ]
  },
  {
   "cell_type": "code",
   "execution_count": 171,
   "id": "3c7e8f96-3c8e-4694-adde-f80796e18680",
   "metadata": {},
   "outputs": [
    {
     "name": "stderr",
     "output_type": "stream",
     "text": [
      "Graphviz not available\n"
     ]
    }
   ],
   "source": [
    "fixed_modelgraph = copy.deepcopy(modelgraph)\n",
    "\n",
    "# layer quantization annotations for int16 Q9.7\n",
    "for node in fixed_modelgraph.nodes:\n",
    "    node.q = Quantization(\n",
    "            number_type=int,\n",
    "            width=16,\n",
    "            long_width=32,\n",
    "            weights_scale_factor=7,\n",
    "            output_scale_factor=7,\n",
    "            weights_round_mode=RoundMode.FLOOR,\n",
    "            output_round_mode=RoundMode.FLOOR,\n",
    "            )\n",
    "\n",
    "fixed_res = qualia_codegen_core.Converter(output_path=Path('output_fixed')).convert_model(fixed_modelgraph)\n",
    "\n",
    "with open('model_fixed.h', 'w') as f:\n",
    "    f.write(fixed_res)"
   ]
  },
  {
   "cell_type": "code",
   "execution_count": 172,
   "id": "49bd62c7-69fe-4d6a-90aa-06e41824ab5b",
   "metadata": {},
   "outputs": [
    {
     "name": "stdout",
     "output_type": "stream",
     "text": [
      "Testing accuracy: 0.449438\n"
     ]
    }
   ],
   "source": [
    "!g++ -std=c++17 -Wall -Wextra -pedantic -Ofast -o fixed -include output_fixed/include/defines.h -Ioutput_fixed/include output_fixed/model.c {main_path}\n",
    "!./fixed x_test.csv y_test.csv"
   ]
  },
  {
   "cell_type": "code",
   "execution_count": null,
   "id": "af535b68-65b8-49a3-87f3-8d3e9548de20",
   "metadata": {},
   "outputs": [],
   "source": []
  },
  {
   "cell_type": "code",
   "execution_count": null,
   "id": "335ee1b3-670b-4666-b21b-60b60b87c0a8",
   "metadata": {},
   "outputs": [],
   "source": []
  }
 ],
 "metadata": {
  "kernelspec": {
   "display_name": "Python 3 (ipykernel)",
   "language": "python",
   "name": "python3"
  },
  "language_info": {
   "codemirror_mode": {
    "name": "ipython",
    "version": 3
   },
   "file_extension": ".py",
   "mimetype": "text/x-python",
   "name": "python",
   "nbconvert_exporter": "python",
   "pygments_lexer": "ipython3",
   "version": "3.11.6"
  }
 },
 "nbformat": 4,
 "nbformat_minor": 5
}
